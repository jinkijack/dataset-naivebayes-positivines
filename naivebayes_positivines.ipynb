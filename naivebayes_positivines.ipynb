{
  "nbformat": 4,
  "nbformat_minor": 0,
  "metadata": {
    "colab": {
      "provenance": [],
      "authorship_tag": "ABX9TyOXnMbw7y9a4f8MYmTOpxHS",
      "include_colab_link": true
    },
    "kernelspec": {
      "name": "python3",
      "display_name": "Python 3"
    },
    "language_info": {
      "name": "python"
    }
  },
  "cells": [
    {
      "cell_type": "markdown",
      "metadata": {
        "id": "view-in-github",
        "colab_type": "text"
      },
      "source": [
        "<a href=\"https://colab.research.google.com/github/jinkijack/dataset-naivebayes-positivines/blob/main/naivebayes_positivines.ipynb\" target=\"_parent\"><img src=\"https://colab.research.google.com/assets/colab-badge.svg\" alt=\"Open In Colab\"/></a>"
      ]
    },
    {
      "cell_type": "code",
      "source": [
        "import pandas as pd\n",
        "from sklearn.model_selection import train_test_split\n",
        "from sklearn.feature_extraction.text import CountVectorizer\n",
        "from sklearn.naive_bayes import MultinomialNB\n",
        "from sklearn.metrics import accuracy_score, classification_report\n",
        "\n",
        "# Substitua com o caminho real do seu arquivo CSV\n",
        "csv_file_path = 'https://raw.githubusercontent.com/jinkijack/dataset-naivebayes-positivines/main/data_train.csv'\n",
        "\n",
        "# Carregar os dados\n",
        "df = pd.read_csv(csv_file_path)\n",
        "\n",
        "# Separar os dados e rótulos\n",
        "texts = df['review']\n",
        "labels = df['positive']\n",
        "\n",
        "# Dividir os dados em treinamento e teste\n",
        "texts_train, texts_test, labels_train, labels_test = train_test_split(texts, labels, test_size=0.2, random_state=0)\n",
        "\n",
        "# Vetorização dos textos\n",
        "vectorizer = CountVectorizer()\n",
        "X_train = vectorizer.fit_transform(texts_train)\n",
        "X_test = vectorizer.transform(texts_test)\n",
        "\n",
        "# Treinar o modelo Naive Bayes\n",
        "model = MultinomialNB()\n",
        "model.fit(X_train, labels_train)\n",
        "\n",
        "# Avaliar o modelo\n",
        "predictions = model.predict(X_test)\n",
        "accuracy = accuracy_score(labels_test, predictions)\n",
        "report = classification_report(labels_test, predictions)\n",
        "\n",
        "accuracy, report"
      ],
      "metadata": {
        "colab": {
          "base_uri": "https://localhost:8080/"
        },
        "id": "h58aB47Cw9Zf",
        "outputId": "5d19807b-72f9-4882-91f5-b8da37c14167"
      },
      "execution_count": 1,
      "outputs": [
        {
          "output_type": "execute_result",
          "data": {
            "text/plain": [
              "(0.847708625175105,\n",
              " '              precision    recall  f1-score   support\\n\\n           0       0.83      0.88      0.85      2505\\n           1       0.87      0.81      0.84      2492\\n\\n    accuracy                           0.85      4997\\n   macro avg       0.85      0.85      0.85      4997\\nweighted avg       0.85      0.85      0.85      4997\\n')"
            ]
          },
          "metadata": {},
          "execution_count": 1
        }
      ]
    },
    {
      "cell_type": "code",
      "source": [
        "accuracy"
      ],
      "metadata": {
        "colab": {
          "base_uri": "https://localhost:8080/"
        },
        "id": "GbkZqLZm0-jT",
        "outputId": "41cb947c-88ce-4504-ed54-c6161c83e026"
      },
      "execution_count": 13,
      "outputs": [
        {
          "output_type": "execute_result",
          "data": {
            "text/plain": [
              "0.847708625175105"
            ]
          },
          "metadata": {},
          "execution_count": 13
        }
      ]
    },
    {
      "cell_type": "code",
      "source": [
        "report"
      ],
      "metadata": {
        "colab": {
          "base_uri": "https://localhost:8080/",
          "height": 53
        },
        "id": "g6pO7AFW0_-W",
        "outputId": "a1ff4176-fadc-4c06-c08c-2718f61ade08"
      },
      "execution_count": 14,
      "outputs": [
        {
          "output_type": "execute_result",
          "data": {
            "text/plain": [
              "'              precision    recall  f1-score   support\\n\\n           0       0.83      0.88      0.85      2505\\n           1       0.87      0.81      0.84      2492\\n\\n    accuracy                           0.85      4997\\n   macro avg       0.85      0.85      0.85      4997\\nweighted avg       0.85      0.85      0.85      4997\\n'"
            ],
            "application/vnd.google.colaboratory.intrinsic+json": {
              "type": "string"
            }
          },
          "metadata": {},
          "execution_count": 14
        }
      ]
    },
    {
      "cell_type": "code",
      "source": [
        "from sklearn.metrics._plot.confusion_matrix import ConfusionMatrixDisplay\n",
        "\n",
        "ConfusionMatrixDisplay.from_estimator(model, X_test, labels_test, display_labels=model.classes_)"
      ],
      "metadata": {
        "colab": {
          "base_uri": "https://localhost:8080/",
          "height": 466
        },
        "id": "RybyBXi1zab6",
        "outputId": "3aad9c86-152c-4733-ab23-6822a0995756"
      },
      "execution_count": 12,
      "outputs": [
        {
          "output_type": "execute_result",
          "data": {
            "text/plain": [
              "<sklearn.metrics._plot.confusion_matrix.ConfusionMatrixDisplay at 0x78aa15392f80>"
            ]
          },
          "metadata": {},
          "execution_count": 12
        },
        {
          "output_type": "display_data",
          "data": {
            "text/plain": [
              "<Figure size 640x480 with 2 Axes>"
            ],
            "image/png": "[encoded data removed]"
          },
          "metadata": {}
        }
      ]
    },
    {
      "cell_type": "code",
      "source": [
        "# Exemplo de nova frase para avaliação\n",
        "new_text = [\"I hate the movie\"]\n",
        "\n",
        "# Transformar a nova frase usando o mesmo vetorizador\n",
        "new_text_vectorized = vectorizer.transform(new_text)\n",
        "\n",
        "# Usar o modelo para fazer a previsão\n",
        "predicted_label = model.predict(new_text_vectorized)\n",
        "\n",
        "# Convertendo a previsão de volta para rótulos legíveis (0 para negativo, 1 para positivo)\n",
        "predicted_sentiment = 'positivo' if predicted_label[0] == 1 else 'negativo'\n",
        "\n",
        "predicted_sentiment  # Mostrar a previsão"
      ],
      "metadata": {
        "colab": {
          "base_uri": "https://localhost:8080/",
          "height": 35
        },
        "id": "WsDV_emaxXIw",
        "outputId": "afc1098a-54d0-4950-cbbe-13932d3c7eff"
      },
      "execution_count": 2,
      "outputs": [
        {
          "output_type": "execute_result",
          "data": {
            "text/plain": [
              "'negativo'"
            ],
            "application/vnd.google.colaboratory.intrinsic+json": {
              "type": "string"
            }
          },
          "metadata": {},
          "execution_count": 2
        }
      ]
    },
    {
      "cell_type": "code",
      "source": [
        "# Exemplo de nova frase para avaliação\n",
        "new_text = [\"I liked the movie\"]\n",
        "\n",
        "# Transformar a nova frase usando o mesmo vetorizador\n",
        "new_text_vectorized = vectorizer.transform(new_text)\n",
        "\n",
        "# Usar o modelo para fazer a previsão\n",
        "predicted_label = model.predict(new_text_vectorized)\n",
        "\n",
        "# Convertendo a previsão de volta para rótulos legíveis (0 para negativo, 1 para positivo)\n",
        "predicted_sentiment = 'positivo' if predicted_label[0] == 1 else 'negativo'\n",
        "\n",
        "predicted_sentiment  # Mostrar a previsão"
      ],
      "metadata": {
        "colab": {
          "base_uri": "https://localhost:8080/",
          "height": 35
        },
        "id": "AmW2FbHJxv9p",
        "outputId": "8629ea99-2bc7-4c5d-cd80-2ae92749a0ee"
      },
      "execution_count": 3,
      "outputs": [
        {
          "output_type": "execute_result",
          "data": {
            "text/plain": [
              "'positivo'"
            ],
            "application/vnd.google.colaboratory.intrinsic+json": {
              "type": "string"
            }
          },
          "metadata": {},
          "execution_count": 3
        }
      ]
    }
  ]
}